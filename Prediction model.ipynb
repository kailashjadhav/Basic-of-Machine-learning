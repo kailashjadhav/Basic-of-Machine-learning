{
  "nbformat": 4,
  "nbformat_minor": 0,
  "metadata": {
    "colab": {
      "name": "Predict.ipynb",
      "provenance": [],
      "private_outputs": true,
      "include_colab_link": true
    },
    "kernelspec": {
      "name": "python3",
      "display_name": "Python 3"
    },
    "accelerator": "GPU"
  },
  "cells": [
    {
      "cell_type": "markdown",
      "metadata": {
        "id": "view-in-github",
        "colab_type": "text"
      },
      "source": [
        "<a href=\"https://colab.research.google.com/github/kailashjadhav/Basic-of-Machine-learning/blob/master/Prediction%20model.ipynb\" target=\"_parent\"><img src=\"https://colab.research.google.com/assets/colab-badge.svg\" alt=\"Open In Colab\"/></a>"
      ]
    },
    {
      "cell_type": "code",
      "metadata": {
        "id": "PYA3jUUYVcim",
        "colab_type": "code",
        "colab": {}
      },
      "source": [
        "pip install quandl"
      ],
      "execution_count": 0,
      "outputs": []
    },
    {
      "cell_type": "code",
      "metadata": {
        "id": "zoyC3DlRVm2A",
        "colab_type": "code",
        "colab": {}
      },
      "source": [
        "import quandl\n",
        "import numpy as np\n",
        "from sklearn.linear_model import LinearRegression\n",
        "from sklearn.svm import SVR\n",
        "from sklearn.model_selection import train_test_split"
      ],
      "execution_count": 0,
      "outputs": []
    },
    {
      "cell_type": "code",
      "metadata": {
        "id": "E11uruzyVtls",
        "colab_type": "code",
        "colab": {}
      },
      "source": [
        "# Get the stock data \n",
        "df = quandl.get(\"wiki/fb\")\n",
        "# Take a look at the data\n",
        "print(df.head())"
      ],
      "execution_count": 0,
      "outputs": []
    },
    {
      "cell_type": "code",
      "metadata": {
        "id": "3ai5pmZVV42W",
        "colab_type": "code",
        "colab": {}
      },
      "source": [
        "# Get the adjusted close price\n",
        "df = df[['Adj. Close']]\n",
        "# Take a look at the data\n",
        "print(df.head())"
      ],
      "execution_count": 0,
      "outputs": []
    },
    {
      "cell_type": "code",
      "metadata": {
        "id": "ADJxdM6eV8dE",
        "colab_type": "code",
        "colab": {}
      },
      "source": [
        "# A variable for predicting 'n' days out into the future\n",
        "forecast_out = 30\n",
        "# Create another column (the target or dependent variable) shifted 'n' units up\n",
        "df['Prediction'] = df[['Adj. Close']].shift(-forecast_out)\n",
        "# print the new dataset\n",
        "print(df.tail())"
      ],
      "execution_count": 0,
      "outputs": []
    },
    {
      "cell_type": "code",
      "metadata": {
        "id": "Xx7NfJnZWJma",
        "colab_type": "code",
        "colab": {}
      },
      "source": [
        "## Create the independent data set (X) #####\n",
        "# Convert dataframe to numpay array\n",
        "X = np.array(df.drop(['Prediction'],1))\n",
        "# Remove the last 'n' rows\n",
        "X = X [:- forecast_out]\n",
        "print(X)"
      ],
      "execution_count": 0,
      "outputs": []
    },
    {
      "cell_type": "code",
      "metadata": {
        "id": "OQ0dkH6RXV1z",
        "colab_type": "code",
        "colab": {}
      },
      "source": [
        "## Create the independent data set (y) #####\n",
        "# Convert dataframe to numpay array (All of the values including the N)\n",
        "y = np.array(df.drop(['Prediction'],1))\n",
        "# Get all of the y values expect the last 'n' rows\n",
        "y = y [:- forecast_out]\n",
        "print(y)"
      ],
      "execution_count": 0,
      "outputs": []
    },
    {
      "cell_type": "code",
      "metadata": {
        "id": "Xy9PA8CsZRve",
        "colab_type": "code",
        "colab": {}
      },
      "source": [
        "## Split the data into 80% training and 20% testing\n",
        "x_train, x_test, y_train, y_test = train_test_split(X, y, test_size=0.2)"
      ],
      "execution_count": 0,
      "outputs": []
    },
    {
      "cell_type": "code",
      "metadata": {
        "id": "m0a_9frHaAXQ",
        "colab_type": "code",
        "colab": {}
      },
      "source": [
        "## Create and train the Support Vector Machine (Regressor)\n",
        "svr_rbf = SVR(kernel='rbf', C=1e3, gamma=0.1)\n",
        "svr_rbf.fit(x_train, y_train)"
      ],
      "execution_count": 0,
      "outputs": []
    },
    {
      "cell_type": "code",
      "metadata": {
        "id": "FwyIe7_boS5q",
        "colab_type": "code",
        "colab": {}
      },
      "source": [
        "## Testing model : Score return the coefficient of determination R^2 of the prediction\n",
        "## Best possible Score is 1.0\n",
        "svm_confidence =  svr_rbf.score(x_test, y_test)\n",
        "print(\"svm confidence: \", svm_confidence)"
      ],
      "execution_count": 0,
      "outputs": []
    },
    {
      "cell_type": "code",
      "metadata": {
        "id": "U3-9yHa_qd2Q",
        "colab_type": "code",
        "colab": {}
      },
      "source": [
        "## Create and train the Linear Regression Model\n",
        "lr = LinearRegression()\n",
        "## Train the model\n",
        "lr.fit(x_train, y_train) "
      ],
      "execution_count": 0,
      "outputs": []
    },
    {
      "cell_type": "code",
      "metadata": {
        "id": "K-cp4CMasAsM",
        "colab_type": "code",
        "colab": {}
      },
      "source": [
        "## Testing model : Score return the coefficient of determination R^2 of the prediction\n",
        "## Best possible Score is 1.0\n",
        "lr_confidence =  lr.score(x_test, y_test)\n",
        "print(\"lr confidence: \", lr_confidence)"
      ],
      "execution_count": 0,
      "outputs": []
    },
    {
      "cell_type": "code",
      "metadata": {
        "id": "HltjisMIuJ-L",
        "colab_type": "code",
        "colab": {}
      },
      "source": [
        "## Set x_forecast equal to the last 30 roe of original data set from Adj. Close column\n",
        "x_forecast = np.array(df.drop(['Prediction'], 1))[-forecast_out:]\n",
        "print(x_forecast)"
      ],
      "execution_count": 0,
      "outputs": []
    },
    {
      "cell_type": "code",
      "metadata": {
        "id": "QvUI4uVQxT7P",
        "colab_type": "code",
        "colab": {}
      },
      "source": [
        "## Print linear regration model prediction for the next 'n' days\n",
        "lr_prediction = lr.predict(x_forecast)\n",
        "print(lr_prediction)"
      ],
      "execution_count": 0,
      "outputs": []
    },
    {
      "cell_type": "code",
      "metadata": {
        "id": "xzL6wlEszdDc",
        "colab_type": "code",
        "colab": {}
      },
      "source": [
        "## Print support vector regrassor model prediction for the next 'n' days\n",
        "svm_prediction = svr_rbf.predict(x_forecast)\n",
        "print(svm_prediction)"
      ],
      "execution_count": 0,
      "outputs": []
    }
  ]
}